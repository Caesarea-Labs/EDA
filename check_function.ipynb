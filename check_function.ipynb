{
 "cells": [
  {
   "cell_type": "code",
   "execution_count": 1,
   "id": "ee386aa8",
   "metadata": {},
   "outputs": [],
   "source": [
    "import numpy as np\n",
    "import gdspy\n",
    "import os\n",
    "import cv2\n",
    "import matplotlib.pyplot as plt\n",
    "from shapely.geometry import Polygon\n",
    "import shapely\n",
    "import tqdm\n",
    "import matplotlib.image\n",
    "from geneticalgorithm import geneticalgorithm as ga\n",
    "from slice_utilities import poly_intersection, slice_gds, cost_reward"
   ]
  },
  {
   "cell_type": "code",
   "execution_count": 3,
   "id": "8ff3e87e",
   "metadata": {},
   "outputs": [
    {
     "name": "stdout",
     "output_type": "stream",
     "text": [
      "Layer: 108, Datatype: 0, Polygons: 59\n",
      "Layer: 66, Datatype: 0, Polygons: 27\n",
      "Layer: 61, Datatype: 0, Polygons: 169\n",
      "Layer: 62, Datatype: 0, Polygons: 178\n",
      "Layer: 63, Datatype: 0, Polygons: 155\n",
      "Layer: 64, Datatype: 0, Polygons: 139\n",
      "Layer: 65, Datatype: 0, Polygons: 67\n",
      "Layer: 127, Datatype: 0, Polygons: 59\n",
      "Layer: 30, Datatype: 0, Polygons: 57\n",
      "Layer: 50, Datatype: 0, Polygons: 202\n",
      "Layer: 43, Datatype: 0, Polygons: 83\n",
      "Layer: 40, Datatype: 0, Polygons: 71\n",
      "Layer: 10, Datatype: 0, Polygons: 150\n",
      "Layer: 14, Datatype: 0, Polygons: 59\n",
      "Layer: 74, Datatype: 0, Polygons: 66\n",
      "Layer: 73, Datatype: 0, Polygons: 109\n",
      "Layer: 72, Datatype: 0, Polygons: 304\n",
      "Layer: 71, Datatype: 0, Polygons: 115\n",
      "Layer: 70, Datatype: 0, Polygons: 106\n"
     ]
    },
    {
     "data": {
      "text/plain": [
       "<gdspy.library.GdsLibrary at 0x7a80482e8090>"
      ]
     },
     "execution_count": 3,
     "metadata": {},
     "output_type": "execute_result"
    }
   ],
   "source": [
    "in_file = '130nm_edit_0001.gds'\n",
    "top_cell_name = 'top_io'\n",
    "out_file='metal_slice.gds'\n",
    "# bounding_box = [(493, 761), (493, 775), (700, 775), (700, 761)]\n",
    "bounding_box = [(1200, 730),(1200, 775),(1390, 775),(1390,762), (1210, 762), (1210, 730)]\n",
    "slice_gds(in_file,top_cell_name,bounding_box,out_file)"
   ]
  },
  {
   "cell_type": "code",
   "execution_count": null,
   "id": "1e2dcbfa",
   "metadata": {},
   "outputs": [],
   "source": [
    "chip_r = gdspy.GdsLibrary(infile = out_file)"
   ]
  },
  {
   "cell_type": "code",
   "execution_count": null,
   "id": "0f26cacd",
   "metadata": {},
   "outputs": [],
   "source": [
    "chip_r = gdspy.GdsLibrary(infile='bb_slice.gds')\n"
   ]
  },
  {
   "cell_type": "code",
   "execution_count": null,
   "id": "223373b8",
   "metadata": {},
   "outputs": [],
   "source": [
    "chip_r.cells['(295, 0)'].get_paths()"
   ]
  },
  {
   "cell_type": "markdown",
   "id": "6e78eac4",
   "metadata": {},
   "source": [
    "Now that we have the reduced gds file we need to set some specific details to construct the needed masks"
   ]
  },
  {
   "cell_type": "code",
   "execution_count": null,
   "id": "d4770451",
   "metadata": {},
   "outputs": [],
   "source": [
    "chip_r = gdspy.GdsLibrary(infile='bb_slice.gds')\n",
    "def test_poly(p,l,t):\n",
    "    targ=[[493.000, 765.940],\n",
    "    [493.000, 765.660],\n",
    "    [651.890, 765.660],\n",
    "    [651.890, 765.940],\n",
    "    [493.000, 765.940]]\n",
    "    poly=gdspy.Polygon(p-targ)\n",
    "    if (poly.area()<0.01):\n",
    "        return True\n",
    "    else:\n",
    "        return False\n",
    "# changing layer 65 to remove the target polygon\n",
    "targ=[[493.000, 765.940],\n",
    "    [493.000, 765.660],\n",
    "    [651.890, 765.660],\n",
    "    [651.890, 765.940],\n",
    "    [493.000, 765.940]]\n",
    "cell = gdspy.Cell('target')\n",
    "cell.add(gdspy.Polygon(targ, layer=500, datatype=500))\n",
    "chip_r.cells['(65, 0)']\n",
    "chip_r.cells['target']=cell\n",
    "chip_r.cells['(65, 0)'].remove_polygons(test_poly)\n",
    "gds_lib = gdspy.GdsLibrary()\n",
    "gds_lib.write_gds(out_file[:-4]+'_t.gds', chip_r)"
   ]
  },
  {
   "cell_type": "code",
   "execution_count": null,
   "id": "b4eabc34",
   "metadata": {},
   "outputs": [],
   "source": [
    "chip_r.cells.keys()"
   ]
  },
  {
   "cell_type": "markdown",
   "id": "464d6c4c",
   "metadata": {},
   "source": [
    "Building the masks"
   ]
  },
  {
   "cell_type": "code",
   "execution_count": null,
   "id": "79d57e12",
   "metadata": {},
   "outputs": [],
   "source": [
    "list_cost_keys = list(chip_r.cells.keys())\n",
    "list_cost_keys.remove(\"top\")\n",
    "list_cost_keys.remove(\"(127, 0)\")\n",
    "list_cost_keys.remove(\"target\")\n",
    "print(list_cost_keys)\n",
    "list_reward_keys=list()\n",
    "list_reward_keys.append(\"target\")\n",
    "\n",
    "section_bb = Polygon([(493, 682), (493, 857), (788, 857), (788, 682)])  # Replace with your section coordinates\n",
    "points = section_bb.exterior.xy\n",
    "min_x, max_x = int(min(points[0])),int(max(points[0]))\n",
    "min_y, max_y = int(min(points[1])),int(max(points[1]))\n",
    "w = int(max_x - min_x)\n",
    "h = int(max_y - min_y)\n",
    "\n",
    "reselution = 100\n",
    "mask_cost = np.zeros((w*reselution,h*reselution))\n",
    "mask_reward = np.zeros((w*reselution,h*reselution))\n",
    "\n",
    "for t in list_cost_keys:\n",
    "    polygons = chip_r.cells[t].get_polygons()\n",
    "    for p in polygons:\n",
    "        ver=[]\n",
    "        for i in range(len(p)):\n",
    "            ver.append([reselution*(p[i,1]-min_y), reselution*(p[i,0]-min_x)])\n",
    "        ver = np.array(ver,dtype=int)\n",
    "        cv2.fillPoly(mask_cost, pts=[ver], color=(255,0,0))\n",
    "\n",
    "\n",
    "for t in list_reward_keys:\n",
    "    polygons = chip_r.cells[t].get_polygons()\n",
    "    for p in polygons:\n",
    "        ver=[]\n",
    "        for i in range(len(p)):\n",
    "            ver.append([reselution*(p[i,1]-min_y), reselution*(p[i,0]-min_x)])\n",
    "        ver = np.array(ver,dtype=int)\n",
    "        cv2.fillPoly(mask_reward, pts=[ver], color=(255,0,0))\n",
    "\n"
   ]
  },
  {
   "cell_type": "code",
   "execution_count": null,
   "id": "da53cad5",
   "metadata": {},
   "outputs": [],
   "source": []
  }
 ],
 "metadata": {
  "kernelspec": {
   "display_name": "Python 3 (ipykernel)",
   "language": "python",
   "name": "python3"
  },
  "language_info": {
   "codemirror_mode": {
    "name": "ipython",
    "version": 3
   },
   "file_extension": ".py",
   "mimetype": "text/x-python",
   "name": "python",
   "nbconvert_exporter": "python",
   "pygments_lexer": "ipython3",
   "version": "3.10.12"
  }
 },
 "nbformat": 4,
 "nbformat_minor": 5
}
