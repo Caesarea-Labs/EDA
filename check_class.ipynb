{
 "cells": [
  {
   "cell_type": "code",
   "execution_count": 1,
   "id": "aa0cee32",
   "metadata": {},
   "outputs": [],
   "source": [
    "import numpy as np\n",
    "import gdspy\n",
    "import os\n",
    "import cv2\n",
    "import matplotlib.pyplot as plt\n",
    "from shapely.geometry import Polygon\n",
    "import shapely\n",
    "import tqdm\n",
    "import matplotlib.image\n",
    "from slice_utilities import poly_intersection, slice_gds, cost_reward\n",
    "\n",
    "from geneticalgorithm import geneticalgorithm as ga\n",
    "from EDA_class import EDA"
   ]
  },
  {
   "cell_type": "code",
   "execution_count": 17,
   "id": "6e31dfde",
   "metadata": {},
   "outputs": [
    {
     "name": "stderr",
     "output_type": "stream",
     "text": [
      "/home/lior/.local/lib/python3.10/site-packages/gdspy/library.py:2291: UserWarning: [GDSPY] GDSII elements of type BOX are imported as polygons.\n",
      "  self.read_gds(infile, **kwargs)\n"
     ]
    }
   ],
   "source": [
    "eda_class = EDA(file='130nm_edit_0001.gds',top_cell='top_io')"
   ]
  },
  {
   "cell_type": "code",
   "execution_count": 3,
   "id": "fc63e510",
   "metadata": {},
   "outputs": [
    {
     "name": "stdout",
     "output_type": "stream",
     "text": [
      "Layer: 108, Datatype: 0, Polygons: 59\n",
      "Layer: 66, Datatype: 0, Polygons: 27\n",
      "Layer: 61, Datatype: 0, Polygons: 169\n",
      "Layer: 62, Datatype: 0, Polygons: 178\n",
      "Layer: 63, Datatype: 0, Polygons: 155\n",
      "Layer: 64, Datatype: 0, Polygons: 139\n",
      "Layer: 65, Datatype: 0, Polygons: 67\n",
      "Layer: 127, Datatype: 0, Polygons: 59\n",
      "Layer: 30, Datatype: 0, Polygons: 57\n",
      "Layer: 50, Datatype: 0, Polygons: 202\n",
      "Layer: 43, Datatype: 0, Polygons: 83\n",
      "Layer: 40, Datatype: 0, Polygons: 71\n",
      "Layer: 10, Datatype: 0, Polygons: 150\n",
      "Layer: 14, Datatype: 0, Polygons: 59\n",
      "Layer: 74, Datatype: 0, Polygons: 66\n",
      "Layer: 73, Datatype: 0, Polygons: 109\n",
      "Layer: 72, Datatype: 0, Polygons: 304\n",
      "Layer: 71, Datatype: 0, Polygons: 115\n",
      "Layer: 70, Datatype: 0, Polygons: 106\n"
     ]
    }
   ],
   "source": [
    "bounding_box = [(1200, 730),(1200, 775),(1390, 775),(1390,762), (1210, 762), (1210, 730)]\n",
    "eda_class.Set_BP(bounding_box)\n",
    "eda_class.Slice_GDS()"
   ]
  },
  {
   "cell_type": "code",
   "execution_count": 4,
   "id": "f2f384df",
   "metadata": {},
   "outputs": [],
   "source": [
    "eda_class.Set_Metal_Layers([61,62,63,64,65,66])\n",
    "eda_class.Set_Via_Layers([70,71,72,73,74])"
   ]
  },
  {
   "cell_type": "code",
   "execution_count": 5,
   "id": "f280c58d",
   "metadata": {},
   "outputs": [],
   "source": [
    "eda_class.Slice_Signals(True)"
   ]
  },
  {
   "cell_type": "code",
   "execution_count": 6,
   "id": "25cec64f",
   "metadata": {},
   "outputs": [],
   "source": [
    "eda_class.Set_Signals_Num([0,5])\n",
    "# eda_class.Gausian_Kernal_size=3"
   ]
  },
  {
   "cell_type": "code",
   "execution_count": 7,
   "id": "a2eb0ec2",
   "metadata": {},
   "outputs": [
    {
     "name": "stdout",
     "output_type": "stream",
     "text": [
      "{'signal number is 0'}\n",
      "{'signal number is 5'}\n"
     ]
    }
   ],
   "source": [
    "eda_class.Build_Reward_masks()\n",
    "eda_class.Build_Cost_mask()"
   ]
  },
  {
   "cell_type": "markdown",
   "id": "355ffa4a",
   "metadata": {},
   "source": [
    "# Setting the GA"
   ]
  },
  {
   "cell_type": "code",
   "execution_count": 8,
   "id": "d70f7e46",
   "metadata": {},
   "outputs": [
    {
     "name": "stdout",
     "output_type": "stream",
     "text": [
      "[1666 1666 1666 1666 1666 1666]\n",
      "[1666 1666 1666 1666 1666 1666]\n"
     ]
    }
   ],
   "source": [
    "reward_mask1 = eda_class.reward_mask1\n",
    "reward_mask2 = eda_class.reward_mask2\n",
    "cost_mask = eda_class.cost_mask\n",
    "W,H = cost_mask[0].shape\n",
    "metal_layers = eda_class.Metal_Layers\n",
    "varbound=np.array([[20,W-20],[20,H-20],[61,66],[20,W-20],[20,H-20],[61,66]])\n",
    "Num_generation = 10000\n",
    "S=eda_class.Generate_Initial_Population(Num_generation,varbound)"
   ]
  },
  {
   "cell_type": "code",
   "execution_count": 10,
   "id": "a39df1ca",
   "metadata": {},
   "outputs": [
    {
     "data": {
      "text/plain": [
       "4500"
      ]
     },
     "execution_count": 10,
     "metadata": {},
     "output_type": "execute_result"
    }
   ],
   "source": [
    "H"
   ]
  },
  {
   "cell_type": "code",
   "execution_count": 13,
   "id": "f88634fe",
   "metadata": {},
   "outputs": [],
   "source": [
    "# Setting the ga parameters\n",
    "algorithm_param = {'initial_population':S,\\\n",
    "                   'max_num_iteration': 100,\\\n",
    "                   'population_size':Num_generation,\\\n",
    "                   'mutation_probability':0.1,\\\n",
    "                   'elit_ratio': 0.01,\\\n",
    "                   'crossover_probability': 0.5,\\\n",
    "                   'parents_portion': 0.3,\\\n",
    "                   'crossover_type':'uniform',\\\n",
    "                   'max_iteration_without_improv':None}"
   ]
  },
  {
   "cell_type": "code",
   "execution_count": 14,
   "id": "17eb893c",
   "metadata": {},
   "outputs": [],
   "source": [
    "def cost_reward(x,y,l,s):\n",
    "    ind_l=(metal_layers).index(l)\n",
    "    cost= 0\n",
    "    for i in range(ind_l,len(metal_layers)):\n",
    "        cost += sum(sum(cost_mask[i][(x-20):(x+20),(y-20):(y+20)]))\n",
    "    reward = 0\n",
    "    if s==1:\n",
    "        reward = sum(sum(reward_mask1[ind_l][(x-20):(x+20),(y-20):(y+20)]))\n",
    "        for i in range(ind_l,len(metal_layers)):\n",
    "            cost += sum(sum(reward_mask2[i][(x-20):(x+20),(y-20):(y+20)]))\n",
    "    elif s==2:\n",
    "        reward = sum(sum(reward_mask2[ind_l][(x-20):(x+20),(y-20):(y+20)]))\n",
    "        for i in range(ind_l,len(metal_layers)):\n",
    "            cost += sum(sum(reward_mask1[i][(x-20):(x+20),(y-20):(y+20)]))\n",
    "    \n",
    "    return cost,reward"
   ]
  },
  {
   "cell_type": "code",
   "execution_count": 15,
   "id": "29890878",
   "metadata": {},
   "outputs": [],
   "source": [
    "def cost_func(X):\n",
    "    x1=int(X[0])\n",
    "    y1=int(X[1])\n",
    "    l1=int(X[2])\n",
    "    x2=int(X[3])\n",
    "    y2=int(X[4])\n",
    "    l2=int(X[5])\n",
    "    cost1, reward1 = cost_reward(x1,y1,l1,1)\n",
    "    cost2, reward2 = cost_reward(x2,y2,l2,2)\n",
    "    cost = cost1+cost2\n",
    "    reward = 100*(reward1+reward2)\n",
    "    L=((x1-x2)**2+(y1-y2)**2)**0.5\n",
    "    L_cost = (L -80)**2#to prevent overlap between the two vias\n",
    "    alpha=0.1\n",
    "    if (cost>0 or reward1==0 or reward2==0):\n",
    "        return cost\n",
    "    else:\n",
    "        return -reward + alpha*L_cost"
   ]
  },
  {
   "cell_type": "code",
   "execution_count": 16,
   "id": "45d29f6d",
   "metadata": {},
   "outputs": [
    {
     "name": "stdout",
     "output_type": "stream",
     "text": [
      " The best solution found:                                                                           \n",
      " [4927.1897896  3673.36968343   66.         4998.49169704 3636.87262245\n",
      "   65.        ]\n",
      "\n",
      " Objective function:\n",
      " -210666.66627634648\n"
     ]
    },
    {
     "data": {
      "image/png": "[encoded data removed]",
      "text/plain": [
       "<Figure size 432x288 with 1 Axes>"
      ]
     },
     "metadata": {
      "needs_background": "light"
     },
     "output_type": "display_data"
    }
   ],
   "source": [
    "varbound=np.array([[20,W-20],[20,H-20],[61,66],[20,W-20],[20,H-20],[61,66]])\n",
    "vartype=np.array([['real'],['real'],['int'],['real'],['real'],['int']])\n",
    "model=ga(function=cost_func,dimension=6,variable_type_mixed=vartype,variable_boundaries=varbound,algorithm_parameters=algorithm_param)\n",
    "model.run()"
   ]
  },
  {
   "cell_type": "code",
   "execution_count": null,
   "id": "4c234f8e",
   "metadata": {},
   "outputs": [],
   "source": [
    "eda_class.plot_results(model.best_variable,20)"
   ]
  },
  {
   "cell_type": "markdown",
   "id": "f10ec506",
   "metadata": {},
   "source": [
    "# Plot the initial population"
   ]
  },
  {
   "cell_type": "code",
   "execution_count": 11,
   "id": "fd471c52",
   "metadata": {},
   "outputs": [],
   "source": [
    "x1=S[:,0]\n",
    "y1=S[:,1]\n",
    "x2=S[:,3]\n",
    "y2=S[:,4]\n"
   ]
  },
  {
   "cell_type": "code",
   "execution_count": 12,
   "id": "104949c5",
   "metadata": {},
   "outputs": [
    {
     "data": {
      "image/png": "[encoded data removed]",
      "text/plain": [
       "<Figure size 432x288 with 1 Axes>"
      ]
     },
     "metadata": {
      "needs_background": "light"
     },
     "output_type": "display_data"
    }
   ],
   "source": [
    "plt.plot(x1,y1,'*r',x2,y2,'*b')\n",
    "plt.show()"
   ]
  },
  {
   "cell_type": "markdown",
   "id": "a8cdf6e7",
   "metadata": {},
   "source": [
    "# Testing the Gauusian blur kernal"
   ]
  },
  {
   "cell_type": "code",
   "execution_count": null,
   "id": "8a4421c7",
   "metadata": {},
   "outputs": [],
   "source": [
    "for i in range(3,21,2):\n",
    "    eda_class.Gausian_Kernal_size=i\n",
    "    eda_class.Build_Reward_masks()\n",
    "    eda_class.Build_Cost_mask()\n",
    "    model=ga(function=cost_func,dimension=6,variable_type_mixed=vartype,variable_boundaries=varbound,algorithm_parameters=algorithm_param)\n",
    "    model.run()\n",
    "    eda_class.plot_results(model.best_variable,20)\n",
    "    old_name = 'GDS_Signals_global_results.gds'\n",
    "    new_name = 'GDS_Signals_global_results_'+str(i)+'_.gds'\n",
    "    os.rename(old_name,new_name)\n"
   ]
  },
  {
   "cell_type": "code",
   "execution_count": null,
   "id": "50853b03",
   "metadata": {},
   "outputs": [],
   "source": []
  }
 ],
 "metadata": {
  "kernelspec": {
   "display_name": "Python 3 (ipykernel)",
   "language": "python",
   "name": "python3"
  },
  "language_info": {
   "codemirror_mode": {
    "name": "ipython",
    "version": 3
   },
   "file_extension": ".py",
   "mimetype": "text/x-python",
   "name": "python",
   "nbconvert_exporter": "python",
   "pygments_lexer": "ipython3",
   "version": "3.10.12"
  }
 },
 "nbformat": 4,
 "nbformat_minor": 5
}
