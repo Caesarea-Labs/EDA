{
 "cells": [
  {
   "cell_type": "code",
   "execution_count": 1,
   "id": "56179071",
   "metadata": {},
   "outputs": [],
   "source": [
    "import numpy as np\n",
    "import gdspy\n",
    "import os\n",
    "import cv2\n",
    "import matplotlib.pyplot as plt\n",
    "from shapely.geometry import Polygon\n",
    "import shapely\n",
    "import tqdm\n",
    "import matplotlib.image\n",
    "from geneticalgorithm import geneticalgorithm as ga"
   ]
  },
  {
   "cell_type": "code",
   "execution_count": null,
   "id": "5d2e9b1a",
   "metadata": {},
   "outputs": [],
   "source": [
    "chip = gdspy.GdsLibrary(infile='130nm_edit_0001.gds')"
   ]
  },
  {
   "cell_type": "code",
   "execution_count": null,
   "id": "e024bd0a",
   "metadata": {},
   "outputs": [],
   "source": [
    "gdspy.LayoutViewer(chip,pattern={'default': 8},background='#FFFFFF')"
   ]
  },
  {
   "cell_type": "code",
   "execution_count": null,
   "id": "86a2f742",
   "metadata": {},
   "outputs": [],
   "source": [
    "gdspy.get_gds_units(infile='130nm_edit_0001.gds')"
   ]
  },
  {
   "cell_type": "code",
   "execution_count": null,
   "id": "38fd62c6",
   "metadata": {},
   "outputs": [],
   "source": [
    "keys=chip.cells.keys()\n",
    "keys_l=list(keys)\n",
    "# for key in keys:\n",
    "#     path = os.path.join('layers_gdspy',key+'.svg')\n",
    "#     print(path)\n",
    "#     chip.cells[key].write_svg(path,scaling=0.1)\n",
    "    "
   ]
  },
  {
   "cell_type": "code",
   "execution_count": null,
   "id": "cb1419c1",
   "metadata": {},
   "outputs": [],
   "source": [
    "top_io=chip.cells['top_io']"
   ]
  },
  {
   "cell_type": "code",
   "execution_count": null,
   "id": "f033e855",
   "metadata": {},
   "outputs": [],
   "source": [
    "poly_top = top_io.get_polygons()"
   ]
  },
  {
   "cell_type": "code",
   "execution_count": null,
   "id": "90c25cb4",
   "metadata": {},
   "outputs": [],
   "source": [
    "print(len(poly_top))"
   ]
  },
  {
   "cell_type": "code",
   "execution_count": null,
   "id": "60fd0220",
   "metadata": {},
   "outputs": [],
   "source": [
    "top_layer = chip.top_level()"
   ]
  },
  {
   "cell_type": "code",
   "execution_count": null,
   "id": "4fb3c777",
   "metadata": {},
   "outputs": [],
   "source": [
    "def poly_intersection(A,B):\n",
    "    #this function will return the intersection of the two polygons\n",
    "    if A.intersects(B)==False:\n",
    "        return False ,[]\n",
    "    else:\n",
    "        p=A.intersection(B)\n",
    "        cord = [] # A list to contain the polygon arays \n",
    "        if p.geom_type == 'Polygon':\n",
    "            xx, yy = p.exterior.coords.xy\n",
    "            A =np.array([xx.tolist(),yy.tolist()]).transpose()\n",
    "            cord.append(A)\n",
    "        elif p.geom_type == 'MultiPolygon':\n",
    "            for pi in p.geoms:\n",
    "                xx, yy = pi.exterior.coords.xy\n",
    "                A =np.array([xx.tolist(),yy.tolist()]).transpose()\n",
    "                cord.append(A)\n",
    "    return True, cord"
   ]
  },
  {
   "cell_type": "code",
   "execution_count": null,
   "id": "349f1eb4",
   "metadata": {},
   "outputs": [],
   "source": [
    "test_poly = Polygon([(493, 761), (493, 775), (700, 775), (700, 761)])\n",
    "\n",
    "filtered_polygons = []\n",
    "for f in poly_top:\n",
    "    res, poly = poly_intersection(test_poly,Polygon(f))\n",
    "    if res:\n",
    "        filtered_polygons.append(f)\n",
    "        \n",
    "\n",
    "print(f\"{len(filtered_polygons)} - found\")"
   ]
  },
  {
   "cell_type": "code",
   "execution_count": null,
   "id": "4307004a",
   "metadata": {},
   "outputs": [],
   "source": [
    "# Step 1: Load the GDS file\n",
    "gds_file = \"130nm_edit_0001.gds\"  # Replace with your GDS file path\n",
    "gds_lib = gdspy.GdsLibrary(infile=gds_file)\n",
    "\n",
    "# Step 2: Get the cell you want to examine\n",
    "cell_name = \"top_io\"  # Replace with the name of the top-level cell\n",
    "cell = gds_lib.cells[cell_name]\n",
    "\n",
    "# Step 3: Define the bounding box for the section of interest\n",
    "# Example bounding box (xmin, ymin, xmax, ymax)\n",
    "section_bb = Polygon([(493, 682), (493, 857), (788, 857), (788, 682)])  # Replace with your section coordinates\n",
    "\n",
    "# Extract polygons grouped by layer and datatype\n",
    "polygons_by_layer = cell.get_polygons(by_spec=True)\n",
    "\n",
    "# Filter polygons by bounding box\n",
    "filtered_polygons = {}\n",
    "\n",
    "for (layer, datatype), polygons in polygons_by_layer.items():\n",
    "    for polygon in polygons:\n",
    "        res, poly = poly_intersection(test_poly,Polygon(polygon))\n",
    "        if res:\n",
    "            if (layer, datatype) not in filtered_polygons:\n",
    "                filtered_polygons[(layer, datatype)] = []\n",
    "            for p in poly:\n",
    "                filtered_polygons[(layer, datatype)].append(p)\n",
    "\n",
    "# Print the number of polygons found in each layer\n",
    "for (layer, datatype), polygons in filtered_polygons.items():\n",
    "    print(f\"Layer: {layer}, Datatype: {datatype}, Polygons: {len(polygons)}\")"
   ]
  },
  {
   "cell_type": "code",
   "execution_count": null,
   "id": "e8778ecd",
   "metadata": {},
   "outputs": [],
   "source": [
    "# Create a new cell to hold the filtered polygons\n",
    "# section_cell = gdspy.Cell('SECTION_VIEW')\n",
    "gds_lib = gdspy.GdsLibrary()\n",
    "\n",
    "# Add filtered polygons to the new cell\n",
    "sections=[]\n",
    "top_cell = gdspy.Cell('top_r')\n",
    "for (layer, datatype), polygons in filtered_polygons.items():\n",
    "    section_cell = gdspy.Cell(str((layer, datatype)))\n",
    "    for polygon in polygons:\n",
    "        section_cell.add(gdspy.Polygon(polygon, layer=layer, datatype=datatype))\n",
    "        top_cell.add(gdspy.Polygon(polygon, layer=layer, datatype=datatype))\n",
    "    sections.append(section_cell)\n",
    "sections.append(top_cell)\n",
    "# Visualize the section using the layout viewer\n",
    "# gdspy.LayoutViewer()\n",
    "\n",
    "# Optional: Save the section to a new GDS file\n",
    "gds_lib.write_gds('section_of_chip.gds', cells=sections)\n"
   ]
  },
  {
   "cell_type": "code",
   "execution_count": null,
   "id": "14603e79",
   "metadata": {},
   "outputs": [],
   "source": [
    "chip_r = gdspy.GdsLibrary(infile='section_of_chip.gds')\n",
    "keys=chip_r.cells.keys()\n",
    "keys_l=list(keys)\n",
    "for key in keys:\n",
    "    path = os.path.join('layers_gdspy',key+'.svg')\n",
    "    print(path)\n",
    "    chip_r.cells[key].write_svg(path,scaling=100)"
   ]
  },
  {
   "cell_type": "code",
   "execution_count": null,
   "id": "6e1af2f7",
   "metadata": {},
   "outputs": [],
   "source": [
    "chip_r = gdspy.GdsLibrary(infile='section_of_chip.gds')\n",
    "gdspy.LayoutViewer()"
   ]
  },
  {
   "cell_type": "markdown",
   "id": "f41c914d",
   "metadata": {},
   "source": [
    "# Starting from the reduced chip"
   ]
  },
  {
   "cell_type": "code",
   "execution_count": 2,
   "id": "d9124050",
   "metadata": {},
   "outputs": [],
   "source": [
    "def test_poly(p,l,t):\n",
    "    targ=[[493.000, 765.940],\n",
    "    [493.000, 765.660],\n",
    "    [651.890, 765.660],\n",
    "    [651.890, 765.940],\n",
    "    [493.000, 765.940]]\n",
    "    poly=gdspy.Polygon(p-targ)\n",
    "    if (poly.area()<0.01):\n",
    "        return True\n",
    "    else:\n",
    "        return False\n",
    "    \n",
    "    "
   ]
  },
  {
   "cell_type": "code",
   "execution_count": 3,
   "id": "01a81260",
   "metadata": {},
   "outputs": [],
   "source": [
    "gds_lib = gdspy.GdsLibrary()\n",
    "chip_r = gdspy.GdsLibrary(infile='section_of_chip.gds')\n",
    "targ=[[493.000, 765.940],\n",
    "    [493.000, 765.660],\n",
    "    [651.890, 765.660],\n",
    "    [651.890, 765.940],\n",
    "    [493.000, 765.940]]\n",
    "cell = gdspy.Cell('target')\n",
    "cell.add(gdspy.Polygon(targ, layer=500, datatype=500))\n",
    "chip_r.cells['(65, 0)']\n",
    "chip_r.cells['target']=cell\n",
    "chip_r.cells['(65, 0)'].remove_polygons(test_poly)\n",
    "gds_lib.write_gds('section_of_chip_t.gds', chip_r)"
   ]
  },
  {
   "cell_type": "code",
   "execution_count": null,
   "id": "4ae0acb6",
   "metadata": {},
   "outputs": [],
   "source": [
    "list_cost_keys = list(chip_r.cells.keys())\n",
    "list_cost_keys.remove(\"top_r\")\n",
    "list_cost_keys.remove(\"(127, 0)\")\n",
    "list_cost_keys.remove(\"target\")\n",
    "print(list_cost_keys)\n",
    "list_reward_keys=list()\n",
    "list_reward_keys.append(\"target\")"
   ]
  },
  {
   "cell_type": "code",
   "execution_count": null,
   "id": "75a70c07",
   "metadata": {},
   "outputs": [],
   "source": [
    "# This cell will build the basic mask\n",
    "section_bb = Polygon([(493, 682), (493, 857), (788, 857), (788, 682)])  # Replace with your section coordinates\n",
    "points = section_bb.exterior.xy\n",
    "min_x, max_x = int(min(points[0])),int(max(points[0]))\n",
    "min_y, max_y = int(min(points[1])),int(max(points[1]))\n",
    "w = int(max_x - min_x)\n",
    "h = int(max_y - min_y)\n",
    "reselution = 100\n",
    "mask_cost = np.zeros((w*reselution,h*reselution))\n",
    "mask_reward = np.zeros((w*reselution,h*reselution))"
   ]
  },
  {
   "cell_type": "code",
   "execution_count": null,
   "id": "f0c6d6eb",
   "metadata": {},
   "outputs": [],
   "source": [
    "for t in list_cost_keys:\n",
    "    polygons = chip_r.cells[t].get_polygons()\n",
    "    for p in polygons:\n",
    "        ver=[]\n",
    "        for i in range(len(p)):\n",
    "            ver.append([reselution*(p[i,1]-min_y), reselution*(p[i,0]-min_x)])\n",
    "        ver = np.array(ver,dtype=int)\n",
    "        cv2.fillPoly(mask_cost, pts=[ver], color=(255,0,0))\n",
    "\n",
    "matplotlib.image.imsave('mask_cost.png', mask_cost)\n",
    "\n",
    "for t in list_reward_keys:\n",
    "    polygons = chip_r.cells[t].get_polygons()\n",
    "    for p in polygons:\n",
    "        ver=[]\n",
    "        for i in range(len(p)):\n",
    "            ver.append([reselution*(p[i,1]-min_y), reselution*(p[i,0]-min_x)])\n",
    "        ver = np.array(ver,dtype=int)\n",
    "        cv2.fillPoly(mask_reward, pts=[ver], color=(255,0,0))\n",
    "\n",
    "matplotlib.image.imsave('mask_reward.png', mask_reward) \n"
   ]
  },
  {
   "cell_type": "code",
   "execution_count": null,
   "id": "40a367b8",
   "metadata": {},
   "outputs": [],
   "source": [
    "W,H = mask_cost.shape"
   ]
  },
  {
   "cell_type": "code",
   "execution_count": null,
   "id": "314adf03",
   "metadata": {},
   "outputs": [],
   "source": [
    "W"
   ]
  },
  {
   "cell_type": "markdown",
   "id": "5db3f8b5",
   "metadata": {},
   "source": [
    "# Testing the Gaussian blurring"
   ]
  },
  {
   "cell_type": "code",
   "execution_count": null,
   "id": "53acdbdf",
   "metadata": {},
   "outputs": [],
   "source": [
    "blur_cost = cv2.GaussianBlur(mask_cost,(61,61),0)\n",
    "blur_reward = cv2.GaussianBlur(mask_reward,(61,61),0)\n",
    "img = blur_cost - blur_reward\n"
   ]
  },
  {
   "cell_type": "code",
   "execution_count": null,
   "id": "88ebf25f",
   "metadata": {},
   "outputs": [],
   "source": [
    "max_val = np.max(img)\n",
    "min_val = np.min(img)\n",
    "print(max_val,min_val)\n",
    "img_norm = 255*(img +(-min_val))/(max_val-min_val)"
   ]
  },
  {
   "cell_type": "code",
   "execution_count": null,
   "id": "4ada9e02",
   "metadata": {},
   "outputs": [],
   "source": []
  },
  {
   "cell_type": "code",
   "execution_count": null,
   "id": "ea76581d",
   "metadata": {},
   "outputs": [],
   "source": [
    "matplotlib.image.imsave('img_total.png', img_norm)\n"
   ]
  },
  {
   "cell_type": "markdown",
   "id": "8ef067ce",
   "metadata": {},
   "source": [
    "# building the GA alg"
   ]
  },
  {
   "cell_type": "code",
   "execution_count": null,
   "id": "4f852e18",
   "metadata": {},
   "outputs": [],
   "source": [
    "def cost_func(X):\n",
    "    x=int(X[0])\n",
    "    y=int(X[1])\n",
    "    w=int(X[2])\n",
    "    h=int(X[3])\n",
    "    cost=sum(sum(mask_cost[(x-w):(x+w),(y-h):(y+h)]))\n",
    "    reward=sum(sum(mask_reward[(x-w):(x+w),(y-h):(y+h)]))\n",
    "    if cost>0:\n",
    "        return cost\n",
    "    else:\n",
    "        return -reward"
   ]
  },
  {
   "cell_type": "code",
   "execution_count": null,
   "id": "5a4eb339",
   "metadata": {},
   "outputs": [],
   "source": [
    "algorithm_param = {'max_num_iteration': 1000,\\\n",
    "                   'population_size':100,\\\n",
    "                   'mutation_probability':0.1,\\\n",
    "                   'elit_ratio': 0.01,\\\n",
    "                   'crossover_probability': 0.5,\\\n",
    "                   'parents_portion': 0.3,\\\n",
    "                   'crossover_type':'uniform',\\\n",
    "                   'max_iteration_without_improv':None}"
   ]
  },
  {
   "cell_type": "code",
   "execution_count": null,
   "id": "856b2107",
   "metadata": {},
   "outputs": [],
   "source": [
    "varbound=np.array([[100,W-100],[100,H-100],[5,100],[5,100]])\n",
    "model=ga(function=cost_func,dimension=4,variable_type='int',variable_boundaries=varbound,algorithm_parameters=algorithm_param)\n",
    "model.run()"
   ]
  },
  {
   "cell_type": "code",
   "execution_count": null,
   "id": "32f78f9a",
   "metadata": {},
   "outputs": [],
   "source": [
    "x,y,w,h=model.best_variable/reselution\n"
   ]
  },
  {
   "cell_type": "code",
   "execution_count": null,
   "id": "f385dac8",
   "metadata": {},
   "outputs": [],
   "source": [
    "x_g=x+493\n",
    "y_g=y+682"
   ]
  },
  {
   "cell_type": "code",
   "execution_count": null,
   "id": "4f4e7c8d",
   "metadata": {},
   "outputs": [],
   "source": [
    "res_poly=[[x_g-w, y_g-h],\n",
    "    [x_g-w, y_g+h],\n",
    "    [x_g+w, y_g+h],\n",
    "    [x_g+w, y_g-h],\n",
    "    [x_g-h, y_g-h]]\n",
    "cell = gdspy.Cell('res')\n",
    "chip_r.cells['res']=cell\n",
    "cell.add(gdspy.Polygon(res_poly, layer=555, datatype=555))\n",
    "chip_r.cells['top_r'].add(gdspy.Polygon(res_poly, layer=555, datatype=555))\n",
    "gds_lib.write_gds('section_of_chip_res.gds', chip_r)"
   ]
  },
  {
   "cell_type": "code",
   "execution_count": null,
   "id": "7c973d45",
   "metadata": {},
   "outputs": [],
   "source": [
    "chip_r.cells['target'].add(gdspy.Polygon(res_poly, layer=555, datatype=555))\n",
    "gds_lib.write_gds('section_of_chip_res.gds', chip_r)"
   ]
  },
  {
   "cell_type": "code",
   "execution_count": null,
   "id": "b3cc083f",
   "metadata": {},
   "outputs": [],
   "source": [
    "chip_r.cells.keys()"
   ]
  },
  {
   "cell_type": "code",
   "execution_count": null,
   "id": "7e9ab9c9",
   "metadata": {},
   "outputs": [],
   "source": [
    "print(x_g,y_g)"
   ]
  },
  {
   "cell_type": "code",
   "execution_count": 4,
   "id": "e31823c2",
   "metadata": {},
   "outputs": [
    {
     "data": {
      "text/plain": [
       "(1e-06, 1e-09)"
      ]
     },
     "execution_count": 4,
     "metadata": {},
     "output_type": "execute_result"
    }
   ],
   "source": [
    "gdspy.(infile='section_of_chip.gds')"
   ]
  },
  {
   "cell_type": "code",
   "execution_count": null,
   "id": "fa253326",
   "metadata": {},
   "outputs": [],
   "source": []
  }
 ],
 "metadata": {
  "kernelspec": {
   "display_name": "Python 3 (ipykernel)",
   "language": "python",
   "name": "python3"
  },
  "language_info": {
   "codemirror_mode": {
    "name": "ipython",
    "version": 3
   },
   "file_extension": ".py",
   "mimetype": "text/x-python",
   "name": "python",
   "nbconvert_exporter": "python",
   "pygments_lexer": "ipython3",
   "version": "3.10.12"
  }
 },
 "nbformat": 4,
 "nbformat_minor": 5
}
