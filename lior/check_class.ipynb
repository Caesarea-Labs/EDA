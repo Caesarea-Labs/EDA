{
 "cells": [
  {
   "cell_type": "code",
   "execution_count": 1,
   "id": "2832411a-84b0-4e33-bfe2-688d4dd1f054",
   "metadata": {
    "ExecuteTime": {
     "end_time": "2024-09-22T06:14:26.049861Z",
     "start_time": "2024-09-22T06:14:22.096182Z"
    }
   },
   "outputs": [
    {
     "name": "stdout",
     "output_type": "stream",
     "text": [
      "Requirement already satisfied: numpy in c:\\users\\natan\\desktop\\circuitedit\\.venv\\lib\\site-packages (2.1.1)\n",
      "Requirement already satisfied: gdspy in c:\\users\\natan\\desktop\\circuitedit\\.venv\\lib\\site-packages (1.6.13)\n",
      "Requirement already satisfied: numpy in c:\\users\\natan\\desktop\\circuitedit\\.venv\\lib\\site-packages (from gdspy) (2.1.1)\n",
      "Requirement already satisfied: opencv-python in c:\\users\\natan\\desktop\\circuitedit\\.venv\\lib\\site-packages (4.10.0.84)\n",
      "Requirement already satisfied: numpy>=1.21.2 in c:\\users\\natan\\desktop\\circuitedit\\.venv\\lib\\site-packages (from opencv-python) (2.1.1)\n",
      "Requirement already satisfied: matplotlib in c:\\users\\natan\\desktop\\circuitedit\\.venv\\lib\\site-packages (3.9.2)\n",
      "Requirement already satisfied: contourpy>=1.0.1 in c:\\users\\natan\\desktop\\circuitedit\\.venv\\lib\\site-packages (from matplotlib) (1.3.0)\n",
      "Requirement already satisfied: cycler>=0.10 in c:\\users\\natan\\desktop\\circuitedit\\.venv\\lib\\site-packages (from matplotlib) (0.12.1)\n",
      "Requirement already satisfied: fonttools>=4.22.0 in c:\\users\\natan\\desktop\\circuitedit\\.venv\\lib\\site-packages (from matplotlib) (4.53.1)\n",
      "Requirement already satisfied: kiwisolver>=1.3.1 in c:\\users\\natan\\desktop\\circuitedit\\.venv\\lib\\site-packages (from matplotlib) (1.4.7)\n",
      "Requirement already satisfied: numpy>=1.23 in c:\\users\\natan\\desktop\\circuitedit\\.venv\\lib\\site-packages (from matplotlib) (2.1.1)\n",
      "Requirement already satisfied: packaging>=20.0 in c:\\users\\natan\\desktop\\circuitedit\\.venv\\lib\\site-packages (from matplotlib) (24.1)\n",
      "Requirement already satisfied: pillow>=8 in c:\\users\\natan\\desktop\\circuitedit\\.venv\\lib\\site-packages (from matplotlib) (10.4.0)\n",
      "Requirement already satisfied: pyparsing>=2.3.1 in c:\\users\\natan\\desktop\\circuitedit\\.venv\\lib\\site-packages (from matplotlib) (3.1.4)\n",
      "Requirement already satisfied: python-dateutil>=2.7 in c:\\users\\natan\\desktop\\circuitedit\\.venv\\lib\\site-packages (from matplotlib) (2.9.0.post0)\n",
      "Requirement already satisfied: six>=1.5 in c:\\users\\natan\\desktop\\circuitedit\\.venv\\lib\\site-packages (from python-dateutil>=2.7->matplotlib) (1.16.0)\n",
      "Requirement already satisfied: shapely in c:\\users\\natan\\desktop\\circuitedit\\.venv\\lib\\site-packages (2.0.6)\n",
      "Requirement already satisfied: numpy<3,>=1.14 in c:\\users\\natan\\desktop\\circuitedit\\.venv\\lib\\site-packages (from shapely) (2.1.1)\n",
      "Requirement already satisfied: tqdm in c:\\users\\natan\\desktop\\circuitedit\\.venv\\lib\\site-packages (4.66.5)\n",
      "Requirement already satisfied: colorama in c:\\users\\natan\\desktop\\circuitedit\\.venv\\lib\\site-packages (from tqdm) (0.4.6)\n",
      "Requirement already satisfied: func_timeout in c:\\users\\natan\\desktop\\circuitedit\\.venv\\lib\\site-packages (4.3.5)\n"
     ]
    }
   ],
   "source": [
    "!pip install numpy\n",
    "!pip install gdspy\n",
    "!pip install opencv-python\n",
    "!pip install matplotlib\n",
    "!pip install shapely\n",
    "!pip install tqdm\n",
    "!pip install func_timeout"
   ]
  },
  {
   "cell_type": "code",
   "execution_count": 1,
   "id": "6e31dfde",
   "metadata": {
    "ExecuteTime": {
     "end_time": "2024-09-22T06:14:33.909234Z",
     "start_time": "2024-09-22T06:14:26.058863Z"
    }
   },
   "outputs": [
    {
     "name": "stderr",
     "output_type": "stream",
     "text": [
      "c:\\Users\\Natan\\Desktop\\EDA\\.venv\\lib\\site-packages\\gdspy\\library.py:2291: UserWarning: [GDSPY] GDSII elements of type BOX are imported as polygons.\n",
      "  self.read_gds(infile, **kwargs)\n"
     ]
    }
   ],
   "source": [
    "from EDA_class import EDA\n",
    "eda_class = EDA(file='130nm_edit_0001.gds',top_cell='top_io')"
   ]
  },
  {
   "cell_type": "code",
   "execution_count": 2,
   "id": "fc63e510",
   "metadata": {
    "ExecuteTime": {
     "start_time": "2024-09-22T06:14:34.331677Z"
    },
    "jupyter": {
     "is_executing": true
    }
   },
   "outputs": [
    {
     "name": "stdout",
     "output_type": "stream",
     "text": [
      "Layer: 108, Datatype: 0, Polygons: 59\n",
      "Layer: 66, Datatype: 0, Polygons: 27\n",
      "Layer: 61, Datatype: 0, Polygons: 169\n",
      "Layer: 62, Datatype: 0, Polygons: 178\n",
      "Layer: 63, Datatype: 0, Polygons: 155\n",
      "Layer: 64, Datatype: 0, Polygons: 139\n",
      "Layer: 65, Datatype: 0, Polygons: 67\n",
      "Layer: 127, Datatype: 0, Polygons: 59\n",
      "Layer: 30, Datatype: 0, Polygons: 57\n",
      "Layer: 50, Datatype: 0, Polygons: 202\n",
      "Layer: 43, Datatype: 0, Polygons: 83\n",
      "Layer: 40, Datatype: 0, Polygons: 71\n",
      "Layer: 10, Datatype: 0, Polygons: 150\n",
      "Layer: 14, Datatype: 0, Polygons: 59\n",
      "Layer: 74, Datatype: 0, Polygons: 66\n",
      "Layer: 73, Datatype: 0, Polygons: 109\n",
      "Layer: 72, Datatype: 0, Polygons: 304\n",
      "Layer: 71, Datatype: 0, Polygons: 115\n",
      "Layer: 70, Datatype: 0, Polygons: 106\n"
     ]
    }
   ],
   "source": [
    "bounding_box = [(1200, 730),(1200, 775),(1390, 775),(1390,762), (1210, 762), (1210, 730)]\n",
    "eda_class.Set_BP(bounding_box)\n",
    "eda_class.Slice_GDS()"
   ]
  },
  {
   "cell_type": "code",
   "execution_count": 3,
   "id": "f2f384df",
   "metadata": {
    "ExecuteTime": {
     "end_time": "2024-09-20T23:06:42.550405Z",
     "start_time": "2024-09-20T22:38:28.394929Z"
    }
   },
   "outputs": [],
   "source": [
    "eda_class.Set_Metal_Layers([61,62,63,64,65,66])\n",
    "eda_class.Set_Via_Layers([70,71,72,73,74])"
   ]
  },
  {
   "cell_type": "code",
   "execution_count": 5,
   "id": "f280c58d",
   "metadata": {
    "ExecuteTime": {
     "end_time": "2024-09-20T23:06:42.550405Z",
     "start_time": "2024-09-20T22:38:30.420677Z"
    }
   },
   "outputs": [
    {
     "ename": "ValueError",
     "evalue": "[GDSPY] Cell named top_metal already present in library.",
     "output_type": "error",
     "traceback": [
      "\u001b[1;31m---------------------------------------------------------------------------\u001b[0m",
      "\u001b[1;31mValueError\u001b[0m                                Traceback (most recent call last)",
      "Cell \u001b[1;32mIn[5], line 1\u001b[0m\n\u001b[1;32m----> 1\u001b[0m \u001b[43meda_class\u001b[49m\u001b[38;5;241;43m.\u001b[39;49m\u001b[43mSlice_Signals\u001b[49m\u001b[43m(\u001b[49m\u001b[38;5;28;43;01mTrue\u001b[39;49;00m\u001b[43m)\u001b[49m\n",
      "File \u001b[1;32mc:\\Users\\Natan\\Desktop\\EDA\\lior\\EDA_class.py:326\u001b[0m, in \u001b[0;36mEDA.Slice_Signals\u001b[1;34m(self, save)\u001b[0m\n\u001b[0;32m    325\u001b[0m \u001b[38;5;28;01mdef\u001b[39;00m \u001b[38;5;21mSlice_Signals\u001b[39m(\u001b[38;5;28mself\u001b[39m, save\u001b[38;5;241m=\u001b[39m\u001b[38;5;28;01mFalse\u001b[39;00m):\n\u001b[1;32m--> 326\u001b[0m     \u001b[38;5;28;43mself\u001b[39;49m\u001b[38;5;241;43m.\u001b[39;49m\u001b[43mSlice_GDS_Signal_Layer\u001b[49m\u001b[43m(\u001b[49m\u001b[43m)\u001b[49m\n\u001b[0;32m    327\u001b[0m     \u001b[38;5;28mself\u001b[39m\u001b[38;5;241m.\u001b[39mSlice_GDS_Signal_unique()\n\u001b[0;32m    328\u001b[0m     \u001b[38;5;28mself\u001b[39m\u001b[38;5;241m.\u001b[39mSlice_GDS_Signal_Layer_Unique()\n",
      "File \u001b[1;32mc:\\Users\\Natan\\Desktop\\EDA\\lior\\EDA_class.py:94\u001b[0m, in \u001b[0;36mEDA.Slice_GDS_Signal_Layer\u001b[1;34m(self)\u001b[0m\n\u001b[0;32m     92\u001b[0m cells_keys \u001b[38;5;241m=\u001b[39m \u001b[38;5;28mlist\u001b[39m(\u001b[38;5;28mself\u001b[39m\u001b[38;5;241m.\u001b[39mChip_BP\u001b[38;5;241m.\u001b[39mcells\u001b[38;5;241m.\u001b[39mkeys())\n\u001b[0;32m     93\u001b[0m cells_keys\u001b[38;5;241m.\u001b[39mremove(\u001b[38;5;124m'\u001b[39m\u001b[38;5;124mtop\u001b[39m\u001b[38;5;124m'\u001b[39m)\n\u001b[1;32m---> 94\u001b[0m top_cell \u001b[38;5;241m=\u001b[39m \u001b[43mgdspy\u001b[49m\u001b[38;5;241;43m.\u001b[39;49m\u001b[43mCell\u001b[49m\u001b[43m(\u001b[49m\u001b[38;5;124;43m'\u001b[39;49m\u001b[38;5;124;43mtop_metal\u001b[39;49m\u001b[38;5;124;43m'\u001b[39;49m\u001b[43m)\u001b[49m\n\u001b[0;32m     95\u001b[0m signal_num \u001b[38;5;241m=\u001b[39m \u001b[38;5;241m0\u001b[39m\n\u001b[0;32m     96\u001b[0m chip_r \u001b[38;5;241m=\u001b[39m gdspy\u001b[38;5;241m.\u001b[39mGdsLibrary()\n",
      "File \u001b[1;32mc:\\Users\\Natan\\Desktop\\EDA\\.venv\\lib\\site-packages\\gdspy\\library.py:115\u001b[0m, in \u001b[0;36mCell.__init__\u001b[1;34m(self, name, exclude_from_current)\u001b[0m\n\u001b[0;32m    112\u001b[0m \u001b[38;5;28;01mif\u001b[39;00m use_current_library \u001b[38;5;129;01mand\u001b[39;00m \u001b[38;5;129;01mnot\u001b[39;00m exclude_from_current:\n\u001b[0;32m    113\u001b[0m     \u001b[38;5;28;01mimport\u001b[39;00m \u001b[38;5;21;01mgdspy\u001b[39;00m\n\u001b[1;32m--> 115\u001b[0m     \u001b[43mgdspy\u001b[49m\u001b[38;5;241;43m.\u001b[39;49m\u001b[43mcurrent_library\u001b[49m\u001b[38;5;241;43m.\u001b[39;49m\u001b[43madd\u001b[49m\u001b[43m(\u001b[49m\u001b[38;5;28;43mself\u001b[39;49m\u001b[43m,\u001b[49m\u001b[43m \u001b[49m\u001b[43minclude_dependencies\u001b[49m\u001b[38;5;241;43m=\u001b[39;49m\u001b[38;5;28;43;01mFalse\u001b[39;49;00m\u001b[43m)\u001b[49m\n",
      "File \u001b[1;32mc:\\Users\\Natan\\Desktop\\EDA\\.venv\\lib\\site-packages\\gdspy\\library.py:2374\u001b[0m, in \u001b[0;36mGdsLibrary.add\u001b[1;34m(self, cell, include_dependencies, overwrite_duplicate, update_references)\u001b[0m\n\u001b[0;32m   2368\u001b[0m \u001b[38;5;28;01mfor\u001b[39;00m c \u001b[38;5;129;01min\u001b[39;00m cell_set:\n\u001b[0;32m   2369\u001b[0m     \u001b[38;5;28;01mif\u001b[39;00m (\n\u001b[0;32m   2370\u001b[0m         \u001b[38;5;129;01mnot\u001b[39;00m overwrite_duplicate\n\u001b[0;32m   2371\u001b[0m         \u001b[38;5;129;01mand\u001b[39;00m c\u001b[38;5;241m.\u001b[39mname \u001b[38;5;129;01min\u001b[39;00m \u001b[38;5;28mself\u001b[39m\u001b[38;5;241m.\u001b[39mcells\n\u001b[0;32m   2372\u001b[0m         \u001b[38;5;129;01mand\u001b[39;00m \u001b[38;5;28mself\u001b[39m\u001b[38;5;241m.\u001b[39mcells[c\u001b[38;5;241m.\u001b[39mname] \u001b[38;5;129;01mis\u001b[39;00m \u001b[38;5;129;01mnot\u001b[39;00m c\n\u001b[0;32m   2373\u001b[0m     ):\n\u001b[1;32m-> 2374\u001b[0m         \u001b[38;5;28;01mraise\u001b[39;00m \u001b[38;5;167;01mValueError\u001b[39;00m(\n\u001b[0;32m   2375\u001b[0m             \u001b[38;5;124m\"\u001b[39m\u001b[38;5;124m[GDSPY] Cell named \u001b[39m\u001b[38;5;132;01m{0}\u001b[39;00m\u001b[38;5;124m already present in library.\u001b[39m\u001b[38;5;124m\"\u001b[39m\u001b[38;5;241m.\u001b[39mformat(c\u001b[38;5;241m.\u001b[39mname)\n\u001b[0;32m   2376\u001b[0m         )\n\u001b[0;32m   2377\u001b[0m     \u001b[38;5;28;01mif\u001b[39;00m (\n\u001b[0;32m   2378\u001b[0m         overwrite_duplicate\n\u001b[0;32m   2379\u001b[0m         \u001b[38;5;129;01mand\u001b[39;00m update_references\n\u001b[0;32m   2380\u001b[0m         \u001b[38;5;129;01mand\u001b[39;00m c\u001b[38;5;241m.\u001b[39mname \u001b[38;5;129;01min\u001b[39;00m \u001b[38;5;28mself\u001b[39m\u001b[38;5;241m.\u001b[39mcells\n\u001b[0;32m   2381\u001b[0m         \u001b[38;5;129;01mand\u001b[39;00m \u001b[38;5;28mself\u001b[39m\u001b[38;5;241m.\u001b[39mcells[c\u001b[38;5;241m.\u001b[39mname] \u001b[38;5;129;01mis\u001b[39;00m \u001b[38;5;129;01mnot\u001b[39;00m c\n\u001b[0;32m   2382\u001b[0m     ):\n\u001b[0;32m   2383\u001b[0m         \u001b[38;5;28mself\u001b[39m\u001b[38;5;241m.\u001b[39mreplace_references(c\u001b[38;5;241m.\u001b[39mname, c)\n",
      "\u001b[1;31mValueError\u001b[0m: [GDSPY] Cell named top_metal already present in library."
     ]
    }
   ],
   "source": [
    "eda_class.Slice_Signals(True)"
   ]
  },
  {
   "cell_type": "code",
   "execution_count": null,
   "id": "25cec64f",
   "metadata": {},
   "outputs": [],
   "source": [
    "eda_class.Set_Signals_Num([0,5])\n",
    "# eda_class.Gausian_Kernal_size=3"
   ]
  },
  {
   "cell_type": "code",
   "execution_count": null,
   "id": "a2eb0ec2",
   "metadata": {},
   "outputs": [],
   "source": [
    "eda_class.Build_Reward_masks()\n",
    "eda_class.Build_Cost_mask()"
   ]
  },
  {
   "cell_type": "markdown",
   "id": "355ffa4a",
   "metadata": {},
   "source": [
    "# Setting the GA"
   ]
  },
  {
   "cell_type": "code",
   "execution_count": null,
   "id": "d70f7e46",
   "metadata": {},
   "outputs": [],
   "source": [
    "reward_mask1 = eda_class.reward_mask1\n",
    "reward_mask2 = eda_class.reward_mask2\n",
    "cost_mask = eda_class.cost_mask\n",
    "W,H = cost_mask[0].test_lamed_shape\n",
    "metal_layers = eda_class.Metal_Layers\n",
    "varbound=np.array([[20,W-20],[20,H-20],[61,66],[20,W-20],[20,H-20],[61,66]])\n",
    "Num_generation = 10000\n",
    "S=eda_class.Generate_Initial_Population(Num_generation,varbound)"
   ]
  },
  {
   "cell_type": "code",
   "execution_count": null,
   "id": "a39df1ca",
   "metadata": {},
   "outputs": [],
   "source": [
    "H"
   ]
  },
  {
   "cell_type": "code",
   "execution_count": null,
   "id": "f88634fe",
   "metadata": {},
   "outputs": [],
   "source": [
    "# Setting the ga parameters\n",
    "algorithm_param = {'initial_population':S,\\\n",
    "                   'max_num_iteration': 100,\\\n",
    "                   'population_size':Num_generation,\\\n",
    "                   'mutation_probability':0.1,\\\n",
    "                   'elit_ratio': 0.01,\\\n",
    "                   'crossover_probability': 0.5,\\\n",
    "                   'parents_portion': 0.3,\\\n",
    "                   'crossover_type':'uniform',\\\n",
    "                   'max_iteration_without_improv':None}"
   ]
  },
  {
   "cell_type": "code",
   "execution_count": null,
   "id": "17eb893c",
   "metadata": {},
   "outputs": [],
   "source": [
    "def cost_reward(x,y,l,s):\n",
    "    ind_l=(metal_layers).index(l)\n",
    "    cost= 0\n",
    "    for i in range(ind_l,len(metal_layers)):\n",
    "        cost += sum(sum(cost_mask[i][(x-20):(x+20),(y-20):(y+20)]))\n",
    "    reward = 0\n",
    "    if s==1:\n",
    "        reward = sum(sum(reward_mask1[ind_l][(x-20):(x+20),(y-20):(y+20)]))\n",
    "        for i in range(ind_l,len(metal_layers)):\n",
    "            cost += sum(sum(reward_mask2[i][(x-20):(x+20),(y-20):(y+20)]))\n",
    "    elif s==2:\n",
    "        reward = sum(sum(reward_mask2[ind_l][(x-20):(x+20),(y-20):(y+20)]))\n",
    "        for i in range(ind_l,len(metal_layers)):\n",
    "            cost += sum(sum(reward_mask1[i][(x-20):(x+20),(y-20):(y+20)]))\n",
    "    \n",
    "    return cost,reward"
   ]
  },
  {
   "cell_type": "code",
   "execution_count": null,
   "id": "29890878",
   "metadata": {},
   "outputs": [],
   "source": [
    "def cost_func(X):\n",
    "    x1=int(X[0])\n",
    "    y1=int(X[1])\n",
    "    l1=int(X[2])\n",
    "    x2=int(X[3])\n",
    "    y2=int(X[4])\n",
    "    l2=int(X[5])\n",
    "    cost1, reward1 = cost_reward(x1,y1,l1,1)\n",
    "    cost2, reward2 = cost_reward(x2,y2,l2,2)\n",
    "    cost = cost1+cost2\n",
    "    reward = 100*(reward1+reward2)\n",
    "    L=((x1-x2)**2+(y1-y2)**2)**0.5\n",
    "    L_cost = (L -80)**2#to prevent overlap between the two vias\n",
    "    alpha=0.1\n",
    "    if (cost>0 or reward1==0 or reward2==0):\n",
    "        return cost\n",
    "    else:\n",
    "        return -reward + alpha*L_cost"
   ]
  },
  {
   "cell_type": "code",
   "execution_count": null,
   "id": "45d29f6d",
   "metadata": {},
   "outputs": [],
   "source": [
    "varbound=np.array([[20,W-20],[20,H-20],[61,66],[20,W-20],[20,H-20],[61,66]])\n",
    "vartype=np.array([['real'],['real'],['int'],['real'],['real'],['int']])\n",
    "model=ga(function=cost_func,dimension=6,variable_type_mixed=vartype,variable_boundaries=varbound,algorithm_parameters=algorithm_param)\n",
    "model.run()"
   ]
  },
  {
   "cell_type": "code",
   "execution_count": null,
   "id": "4c234f8e",
   "metadata": {},
   "outputs": [],
   "source": [
    "eda_class.plot_results(model.best_variable,20)"
   ]
  },
  {
   "cell_type": "markdown",
   "id": "f10ec506",
   "metadata": {},
   "source": [
    "# Plot the initial population"
   ]
  },
  {
   "cell_type": "code",
   "execution_count": null,
   "id": "fd471c52",
   "metadata": {},
   "outputs": [],
   "source": [
    "x1=S[:,0]\n",
    "y1=S[:,1]\n",
    "x2=S[:,3]\n",
    "y2=S[:,4]\n"
   ]
  },
  {
   "cell_type": "code",
   "execution_count": null,
   "id": "104949c5",
   "metadata": {},
   "outputs": [],
   "source": [
    "plt.plot(x1,y1,'*r',x2,y2,'*b')\n",
    "plt.show()"
   ]
  },
  {
   "cell_type": "markdown",
   "id": "a8cdf6e7",
   "metadata": {},
   "source": [
    "# Testing the Gauusian blur kernal"
   ]
  },
  {
   "cell_type": "code",
   "execution_count": null,
   "id": "8a4421c7",
   "metadata": {},
   "outputs": [],
   "source": [
    "for i in range(3,21,2):\n",
    "    eda_class.Gausian_Kernal_size=i\n",
    "    eda_class.Build_Reward_masks()\n",
    "    eda_class.Build_Cost_mask()\n",
    "    model=ga(function=cost_func,dimension=6,variable_type_mixed=vartype,variable_boundaries=varbound,algorithm_parameters=algorithm_param)\n",
    "    model.run()\n",
    "    eda_class.plot_results(model.best_variable,20)\n",
    "    old_name = 'GDS_Signals_global_results.gds'\n",
    "    new_name = 'GDS_Signals_global_results_'+str(i)+'_.gds'\n",
    "    os.rename(old_name,new_name)\n"
   ]
  },
  {
   "cell_type": "code",
   "execution_count": null,
   "id": "50853b03",
   "metadata": {},
   "outputs": [],
   "source": []
  },
  {
   "cell_type": "code",
   "execution_count": null,
   "id": "dd3678b9-a1fb-40f5-a5ab-d57fc8007be1",
   "metadata": {},
   "outputs": [],
   "source": []
  }
 ],
 "metadata": {
  "kernelspec": {
   "display_name": "Python 3 (ipykernel)",
   "language": "python",
   "name": "python3"
  },
  "language_info": {
   "codemirror_mode": {
    "name": "ipython",
    "version": 3
   },
   "file_extension": ".py",
   "mimetype": "text/x-python",
   "name": "python",
   "nbconvert_exporter": "python",
   "pygments_lexer": "ipython3",
   "version": "3.10.11"
  }
 },
 "nbformat": 4,
 "nbformat_minor": 5
}
