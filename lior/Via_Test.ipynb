{
 "cells": [
  {
   "cell_type": "code",
   "execution_count": 1,
   "id": "ee386aa8",
   "metadata": {},
   "outputs": [],
   "source": [
    "import numpy as np\n",
    "import gdspy\n",
    "import os\n",
    "import cv2\n",
    "import matplotlib.pyplot as plt\n",
    "from shapely.geometry import Polygon\n",
    "import shapely\n",
    "import tqdm\n",
    "import matplotlib.image\n",
    "from geneticalgorithm import geneticalgorithm as ga\n",
    "from slice_utilities import poly_intersection, slice_gds, cost_reward"
   ]
  },
  {
   "cell_type": "code",
   "execution_count": 2,
   "id": "8ff3e87e",
   "metadata": {},
   "outputs": [
    {
     "name": "stderr",
     "output_type": "stream",
     "text": [
      "/home/lior/.local/lib/python3.10/site-packages/gdspy/library.py:2291: UserWarning: [GDSPY] GDSII elements of type BOX are imported as polygons.\n",
      "  self.read_gds(infile, **kwargs)\n"
     ]
    },
    {
     "name": "stdout",
     "output_type": "stream",
     "text": [
      "Layer: 108, Datatype: 0, Polygons: 82\n",
      "Layer: 66, Datatype: 0, Polygons: 50\n",
      "Layer: 61, Datatype: 0, Polygons: 1255\n",
      "Layer: 62, Datatype: 0, Polygons: 1013\n",
      "Layer: 63, Datatype: 0, Polygons: 617\n",
      "Layer: 64, Datatype: 0, Polygons: 405\n",
      "Layer: 65, Datatype: 0, Polygons: 109\n",
      "Layer: 127, Datatype: 0, Polygons: 255\n",
      "Layer: 30, Datatype: 0, Polygons: 2341\n",
      "Layer: 50, Datatype: 0, Polygons: 4493\n",
      "Layer: 43, Datatype: 0, Polygons: 247\n",
      "Layer: 40, Datatype: 0, Polygons: 278\n",
      "Layer: 10, Datatype: 0, Polygons: 682\n",
      "Layer: 14, Datatype: 0, Polygons: 109\n",
      "Layer: 74, Datatype: 0, Polygons: 170\n",
      "Layer: 73, Datatype: 0, Polygons: 198\n",
      "Layer: 72, Datatype: 0, Polygons: 1302\n",
      "Layer: 71, Datatype: 0, Polygons: 1172\n",
      "Layer: 70, Datatype: 0, Polygons: 1354\n",
      "Layer: 138, Datatype: 0, Polygons: 53\n",
      "Layer: 135, Datatype: 0, Polygons: 1\n"
     ]
    },
    {
     "data": {
      "text/plain": [
       "<gdspy.library.GdsLibrary at 0x74246d33f2e0>"
      ]
     },
     "execution_count": 2,
     "metadata": {},
     "output_type": "execute_result"
    }
   ],
   "source": [
    "in_file = '130nm_edit_0001.gds'\n",
    "top_cell_name = 'top_io'\n",
    "out_file='via_test.gds'\n",
    "bounding_box = [(1190, 730), (1190, 775), (1390, 775), (1390, 730)]\n",
    "slice_gds(in_file,top_cell_name,bounding_box,out_file)"
   ]
  },
  {
   "cell_type": "code",
   "execution_count": null,
   "id": "1e2dcbfa",
   "metadata": {},
   "outputs": [],
   "source": [
    "chip_r = gdspy.GdsLibrary(infile = out_file)"
   ]
  },
  {
   "cell_type": "markdown",
   "id": "6e78eac4",
   "metadata": {},
   "source": [
    "Now that we have the reduced gds file we need to set some specific details to construct the needed masks"
   ]
  },
  {
   "cell_type": "code",
   "execution_count": null,
   "id": "d4770451",
   "metadata": {},
   "outputs": [],
   "source": [
    "chip_r = gdspy.GdsLibrary(infile='bb_slice.gds')\n",
    "def test_poly(p,l,t):\n",
    "    targ=[[493.000, 765.940],\n",
    "    [493.000, 765.660],\n",
    "    [651.890, 765.660],\n",
    "    [651.890, 765.940],\n",
    "    [493.000, 765.940]]\n",
    "    poly=gdspy.Polygon(p-targ)\n",
    "    if (poly.area()<0.01):\n",
    "        return True\n",
    "    else:\n",
    "        return False\n",
    "# changing layer 65 to remove the target polygon\n",
    "targ=[[493.000, 765.940],\n",
    "    [493.000, 765.660],\n",
    "    [651.890, 765.660],\n",
    "    [651.890, 765.940],\n",
    "    [493.000, 765.940]]\n",
    "cell = gdspy.Cell('target')\n",
    "cell.add(gdspy.Polygon(targ, layer=500, datatype=500))\n",
    "chip_r.cells['(65, 0)']\n",
    "chip_r.cells['target']=cell\n",
    "chip_r.cells['(65, 0)'].remove_polygons(test_poly)\n",
    "gds_lib = gdspy.GdsLibrary()\n",
    "gds_lib.write_gds(out_file[:-4]+'_t.gds', chip_r)"
   ]
  },
  {
   "cell_type": "code",
   "execution_count": null,
   "id": "b4eabc34",
   "metadata": {},
   "outputs": [],
   "source": [
    "chip_r.cells.keys()"
   ]
  },
  {
   "cell_type": "markdown",
   "id": "464d6c4c",
   "metadata": {},
   "source": [
    "Building the masks"
   ]
  },
  {
   "cell_type": "code",
   "execution_count": null,
   "id": "79d57e12",
   "metadata": {},
   "outputs": [],
   "source": [
    "list_cost_keys = list(chip_r.cells.keys())\n",
    "list_cost_keys.remove(\"top\")\n",
    "list_cost_keys.remove(\"(127, 0)\")\n",
    "list_cost_keys.remove(\"target\")\n",
    "print(list_cost_keys)\n",
    "list_reward_keys=list()\n",
    "list_reward_keys.append(\"target\")\n",
    "\n",
    "section_bb = Polygon([(493, 682), (493, 857), (788, 857), (788, 682)])  # Replace with your section coordinates\n",
    "points = section_bb.exterior.xy\n",
    "min_x, max_x = int(min(points[0])),int(max(points[0]))\n",
    "min_y, max_y = int(min(points[1])),int(max(points[1]))\n",
    "w = int(max_x - min_x)\n",
    "h = int(max_y - min_y)\n",
    "\n",
    "reselution = 100\n",
    "mask_cost = np.zeros((w*reselution,h*reselution))\n",
    "mask_reward = np.zeros((w*reselution,h*reselution))\n",
    "\n",
    "for t in list_cost_keys:\n",
    "    polygons = chip_r.cells[t].get_polygons()\n",
    "    for p in polygons:\n",
    "        ver=[]\n",
    "        for i in range(len(p)):\n",
    "            ver.append([reselution*(p[i,1]-min_y), reselution*(p[i,0]-min_x)])\n",
    "        ver = np.array(ver,dtype=int)\n",
    "        cv2.fillPoly(mask_cost, pts=[ver], color=(255,0,0))\n",
    "\n",
    "\n",
    "for t in list_reward_keys:\n",
    "    polygons = chip_r.cells[t].get_polygons()\n",
    "    for p in polygons:\n",
    "        ver=[]\n",
    "        for i in range(len(p)):\n",
    "            ver.append([reselution*(p[i,1]-min_y), reselution*(p[i,0]-min_x)])\n",
    "        ver = np.array(ver,dtype=int)\n",
    "        cv2.fillPoly(mask_reward, pts=[ver], color=(255,0,0))\n",
    "\n"
   ]
  },
  {
   "cell_type": "code",
   "execution_count": null,
   "id": "da53cad5",
   "metadata": {},
   "outputs": [],
   "source": []
  }
 ],
 "metadata": {
  "kernelspec": {
   "display_name": "Python 3 (ipykernel)",
   "language": "python",
   "name": "python3"
  },
  "language_info": {
   "codemirror_mode": {
    "name": "ipython",
    "version": 3
   },
   "file_extension": ".py",
   "mimetype": "text/x-python",
   "name": "python",
   "nbconvert_exporter": "python",
   "pygments_lexer": "ipython3",
   "version": "3.10.12"
  }
 },
 "nbformat": 4,
 "nbformat_minor": 5
}
