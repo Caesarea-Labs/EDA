{
 "cells": [
  {
   "cell_type": "code",
   "execution_count": 1,
   "id": "ee386aa8",
   "metadata": {},
   "outputs": [],
   "source": [
    "import numpy as np\n",
    "import gdspy\n",
    "import os\n",
    "import cv2\n",
    "import matplotlib.pyplot as plt\n",
    "from shapely.geometry import Polygon\n",
    "import shapely\n",
    "import tqdm\n",
    "import matplotlib.image\n",
    "from geneticalgorithm import geneticalgorithm as ga\n",
    "from slice_utilities import poly_intersection, slice_gds, cost_reward"
   ]
  },
  {
   "cell_type": "code",
   "execution_count": 2,
   "id": "8ff3e87e",
   "metadata": {},
   "outputs": [
    {
     "name": "stderr",
     "output_type": "stream",
     "text": [
      "/home/lior/.local/lib/python3.10/site-packages/gdspy/library.py:2291: UserWarning: [GDSPY] GDSII elements of type BOX are imported as polygons.\n",
      "  self.read_gds(infile, **kwargs)\n"
     ]
    },
    {
     "name": "stdout",
     "output_type": "stream",
     "text": [
      "Layer: 295, Datatype: 0, Polygons: 2\n",
      "Layer: 294, Datatype: 0, Polygons: 1\n",
      "Layer: 108, Datatype: 0, Polygons: 20\n",
      "Layer: 66, Datatype: 0, Polygons: 17\n",
      "Layer: 66, Datatype: 5543, Polygons: 1\n",
      "Layer: 61, Datatype: 0, Polygons: 47\n",
      "Layer: 62, Datatype: 0, Polygons: 54\n",
      "Layer: 63, Datatype: 0, Polygons: 52\n",
      "Layer: 64, Datatype: 0, Polygons: 73\n",
      "Layer: 65, Datatype: 0, Polygons: 27\n",
      "Layer: 127, Datatype: 0, Polygons: 20\n",
      "Layer: 66, Datatype: 5544, Polygons: 1\n",
      "Layer: 30, Datatype: 0, Polygons: 25\n",
      "Layer: 50, Datatype: 0, Polygons: 349\n",
      "Layer: 43, Datatype: 0, Polygons: 20\n",
      "Layer: 40, Datatype: 0, Polygons: 19\n",
      "Layer: 10, Datatype: 0, Polygons: 40\n",
      "Layer: 14, Datatype: 0, Polygons: 22\n",
      "Layer: 74, Datatype: 0, Polygons: 92\n",
      "Layer: 73, Datatype: 0, Polygons: 101\n",
      "Layer: 72, Datatype: 0, Polygons: 378\n",
      "Layer: 71, Datatype: 0, Polygons: 70\n",
      "Layer: 70, Datatype: 0, Polygons: 68\n"
     ]
    },
    {
     "data": {
      "text/plain": [
       "<gdspy.library.GdsLibrary at 0x73ead23c3f10>"
      ]
     },
     "execution_count": 2,
     "metadata": {},
     "output_type": "execute_result"
    }
   ],
   "source": [
    "in_file = '130nm_edit_0001.gds'\n",
    "top_cell_name = 'top_io'\n",
    "out_file='bb_slice.gds'\n",
    "bounding_box = [(493, 761), (493, 775), (700, 775), (700, 761)]\n",
    "slice_gds(in_file,top_cell_name,bounding_box,out_file)"
   ]
  },
  {
   "cell_type": "code",
   "execution_count": 3,
   "id": "1e2dcbfa",
   "metadata": {},
   "outputs": [],
   "source": [
    "chip_r = gdspy.GdsLibrary(infile = out_file)"
   ]
  },
  {
   "cell_type": "markdown",
   "id": "6e78eac4",
   "metadata": {},
   "source": [
    "Now that we have the reduced gds file we need to set some specific details to construct the needed masks"
   ]
  },
  {
   "cell_type": "code",
   "execution_count": 4,
   "id": "d4770451",
   "metadata": {},
   "outputs": [],
   "source": [
    "chip_r = gdspy.GdsLibrary(infile='bb_slice.gds')\n",
    "def test_poly(p,l,t):\n",
    "    targ=[[493.000, 765.940],\n",
    "    [493.000, 765.660],\n",
    "    [651.890, 765.660],\n",
    "    [651.890, 765.940],\n",
    "    [493.000, 765.940]]\n",
    "    poly=gdspy.Polygon(p-targ)\n",
    "    if (poly.area()<0.01):\n",
    "        return True\n",
    "    else:\n",
    "        return False\n",
    "# changing layer 65 to remove the target polygon\n",
    "targ=[[493.000, 765.940],\n",
    "    [493.000, 765.660],\n",
    "    [651.890, 765.660],\n",
    "    [651.890, 765.940],\n",
    "    [493.000, 765.940]]\n",
    "cell = gdspy.Cell('target')\n",
    "cell.add(gdspy.Polygon(targ, layer=500, datatype=500))\n",
    "chip_r.cells['(65, 0)']\n",
    "chip_r.cells['target']=cell\n",
    "chip_r.cells['(65, 0)'].remove_polygons(test_poly)\n",
    "gds_lib = gdspy.GdsLibrary()\n",
    "gds_lib.write_gds(out_file[:-4]+'_t.gds', chip_r)"
   ]
  },
  {
   "cell_type": "code",
   "execution_count": 8,
   "id": "b4eabc34",
   "metadata": {},
   "outputs": [
    {
     "data": {
      "text/plain": [
       "dict_keys(['(295, 0)', '(294, 0)', '(108, 0)', '(66, 0)', '(66, 5543)', '(61, 0)', '(62, 0)', '(63, 0)', '(64, 0)', '(65, 0)', '(127, 0)', '(66, 5544)', '(30, 0)', '(50, 0)', '(43, 0)', '(40, 0)', '(10, 0)', '(14, 0)', '(74, 0)', '(73, 0)', '(72, 0)', '(71, 0)', '(70, 0)', 'top', 'target'])"
      ]
     },
     "execution_count": 8,
     "metadata": {},
     "output_type": "execute_result"
    }
   ],
   "source": [
    "chip_r.cells.keys()"
   ]
  },
  {
   "cell_type": "markdown",
   "id": "464d6c4c",
   "metadata": {},
   "source": [
    "Building the masks"
   ]
  },
  {
   "cell_type": "code",
   "execution_count": 9,
   "id": "79d57e12",
   "metadata": {},
   "outputs": [
    {
     "name": "stdout",
     "output_type": "stream",
     "text": [
      "['(295, 0)', '(294, 0)', '(108, 0)', '(66, 0)', '(66, 5543)', '(61, 0)', '(62, 0)', '(63, 0)', '(64, 0)', '(65, 0)', '(66, 5544)', '(30, 0)', '(50, 0)', '(43, 0)', '(40, 0)', '(10, 0)', '(14, 0)', '(74, 0)', '(73, 0)', '(72, 0)', '(71, 0)', '(70, 0)']\n"
     ]
    }
   ],
   "source": [
    "list_cost_keys = list(chip_r.cells.keys())\n",
    "list_cost_keys.remove(\"top\")\n",
    "list_cost_keys.remove(\"(127, 0)\")\n",
    "list_cost_keys.remove(\"target\")\n",
    "print(list_cost_keys)\n",
    "list_reward_keys=list()\n",
    "list_reward_keys.append(\"target\")\n",
    "\n",
    "section_bb = Polygon([(493, 682), (493, 857), (788, 857), (788, 682)])  # Replace with your section coordinates\n",
    "points = section_bb.exterior.xy\n",
    "min_x, max_x = int(min(points[0])),int(max(points[0]))\n",
    "min_y, max_y = int(min(points[1])),int(max(points[1]))\n",
    "w = int(max_x - min_x)\n",
    "h = int(max_y - min_y)\n",
    "\n",
    "reselution = 100\n",
    "mask_cost = np.zeros((w*reselution,h*reselution))\n",
    "mask_reward = np.zeros((w*reselution,h*reselution))\n",
    "\n",
    "for t in list_cost_keys:\n",
    "    polygons = chip_r.cells[t].get_polygons()\n",
    "    for p in polygons:\n",
    "        ver=[]\n",
    "        for i in range(len(p)):\n",
    "            ver.append([reselution*(p[i,1]-min_y), reselution*(p[i,0]-min_x)])\n",
    "        ver = np.array(ver,dtype=int)\n",
    "        cv2.fillPoly(mask_cost, pts=[ver], color=(255,0,0))\n",
    "\n",
    "\n",
    "for t in list_reward_keys:\n",
    "    polygons = chip_r.cells[t].get_polygons()\n",
    "    for p in polygons:\n",
    "        ver=[]\n",
    "        for i in range(len(p)):\n",
    "            ver.append([reselution*(p[i,1]-min_y), reselution*(p[i,0]-min_x)])\n",
    "        ver = np.array(ver,dtype=int)\n",
    "        cv2.fillPoly(mask_reward, pts=[ver], color=(255,0,0))\n",
    "\n"
   ]
  },
  {
   "cell_type": "code",
   "execution_count": null,
   "id": "da53cad5",
   "metadata": {},
   "outputs": [],
   "source": []
  }
 ],
 "metadata": {
  "kernelspec": {
   "display_name": "Python 3 (ipykernel)",
   "language": "python",
   "name": "python3"
  },
  "language_info": {
   "codemirror_mode": {
    "name": "ipython",
    "version": 3
   },
   "file_extension": ".py",
   "mimetype": "text/x-python",
   "name": "python",
   "nbconvert_exporter": "python",
   "pygments_lexer": "ipython3",
   "version": "3.10.12"
  }
 },
 "nbformat": 4,
 "nbformat_minor": 5
}
