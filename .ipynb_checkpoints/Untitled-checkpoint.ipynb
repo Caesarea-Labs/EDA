{
 "cells": [
  {
   "cell_type": "code",
   "execution_count": 2,
   "id": "56179071",
   "metadata": {},
   "outputs": [],
   "source": [
    "import numpy\n",
    "import gdspy"
   ]
  },
  {
   "cell_type": "code",
   "execution_count": 3,
   "id": "5d2e9b1a",
   "metadata": {},
   "outputs": [
    {
     "name": "stderr",
     "output_type": "stream",
     "text": [
      "/home/lior/.local/lib/python3.10/site-packages/gdspy/library.py:2291: UserWarning: [GDSPY] GDSII elements of type BOX are imported as polygons.\n",
      "  self.read_gds(infile, **kwargs)\n"
     ]
    }
   ],
   "source": [
    "gdsii = gdspy.GdsLibrary(infile='130nm_edit_0001.gds')\n"
   ]
  },
  {
   "cell_type": "code",
   "execution_count": 4,
   "id": "e024bd0a",
   "metadata": {},
   "outputs": [
    {
     "data": {
      "text/plain": [
       "<gdspy.library.GdsLibrary at 0x7b8793928360>"
      ]
     },
     "execution_count": 4,
     "metadata": {},
     "output_type": "execute_result"
    }
   ],
   "source": [
    "gdsii"
   ]
  },
  {
   "cell_type": "code",
   "execution_count": 6,
   "id": "86a2f742",
   "metadata": {},
   "outputs": [
    {
     "data": {
      "text/plain": [
       "<gdspy.viewer.LayoutViewer object .!layoutviewer>"
      ]
     },
     "execution_count": 6,
     "metadata": {},
     "output_type": "execute_result"
    }
   ],
   "source": [
    "gdspy.LayoutViewer(gdsii)"
   ]
  },
  {
   "cell_type": "code",
   "execution_count": 8,
   "id": "38fd62c6",
   "metadata": {},
   "outputs": [
    {
     "data": {
      "text/plain": [
       "<bound method GdsLibrary.top_level of <gdspy.library.GdsLibrary object at 0x7b8793928360>>"
      ]
     },
     "execution_count": 8,
     "metadata": {},
     "output_type": "execute_result"
    }
   ],
   "source": [
    "gdsii."
   ]
  },
  {
   "cell_type": "code",
   "execution_count": null,
   "id": "cb1419c1",
   "metadata": {},
   "outputs": [],
   "source": []
  }
 ],
 "metadata": {
  "kernelspec": {
   "display_name": "Python 3 (ipykernel)",
   "language": "python",
   "name": "python3"
  },
  "language_info": {
   "codemirror_mode": {
    "name": "ipython",
    "version": 3
   },
   "file_extension": ".py",
   "mimetype": "text/x-python",
   "name": "python",
   "nbconvert_exporter": "python",
   "pygments_lexer": "ipython3",
   "version": "3.10.12"
  }
 },
 "nbformat": 4,
 "nbformat_minor": 5
}
