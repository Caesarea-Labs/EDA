{
 "cells": [
  {
   "cell_type": "code",
   "execution_count": 1,
   "id": "aa0cee32",
   "metadata": {},
   "outputs": [],
   "source": [
    "import numpy as np\n",
    "import gdspy\n",
    "import os\n",
    "import cv2\n",
    "import matplotlib.pyplot as plt\n",
    "from shapely.geometry import Polygon\n",
    "import shapely\n",
    "import tqdm\n",
    "import matplotlib.image\n",
    "from geneticalgorithm import geneticalgorithm as ga\n",
    "from slice_utilities import poly_intersection, slice_gds, cost_reward"
   ]
  },
  {
   "cell_type": "code",
   "execution_count": 2,
   "id": "6e31dfde",
   "metadata": {},
   "outputs": [
    {
     "name": "stderr",
     "output_type": "stream",
     "text": [
      "/home/lior/.local/lib/python3.10/site-packages/gdspy/library.py:2291: UserWarning: [GDSPY] GDSII elements of type BOX are imported as polygons.\n",
      "  self.read_gds(infile, **kwargs)\n"
     ]
    }
   ],
   "source": [
    "from EDA_class import EDA\n",
    "eda_class = EDA('130nm_edit_0001.gds','top_io')"
   ]
  },
  {
   "cell_type": "code",
   "execution_count": 3,
   "id": "fc63e510",
   "metadata": {},
   "outputs": [
    {
     "name": "stdout",
     "output_type": "stream",
     "text": [
      "Layer: 108, Datatype: 0, Polygons: 294\n",
      "Layer: 66, Datatype: 0, Polygons: 6\n",
      "Layer: 61, Datatype: 0, Polygons: 2951\n",
      "Layer: 62, Datatype: 0, Polygons: 1908\n",
      "Layer: 63, Datatype: 0, Polygons: 1356\n",
      "Layer: 64, Datatype: 0, Polygons: 417\n",
      "Layer: 65, Datatype: 0, Polygons: 72\n",
      "Layer: 127, Datatype: 0, Polygons: 295\n",
      "Layer: 30, Datatype: 0, Polygons: 5206\n",
      "Layer: 50, Datatype: 0, Polygons: 7769\n",
      "Layer: 43, Datatype: 0, Polygons: 560\n",
      "Layer: 40, Datatype: 0, Polygons: 568\n",
      "Layer: 10, Datatype: 0, Polygons: 1438\n",
      "Layer: 14, Datatype: 0, Polygons: 282\n",
      "Layer: 74, Datatype: 0, Polygons: 3\n",
      "Layer: 73, Datatype: 0, Polygons: 35\n",
      "Layer: 72, Datatype: 0, Polygons: 171\n",
      "Layer: 71, Datatype: 0, Polygons: 613\n",
      "Layer: 70, Datatype: 0, Polygons: 637\n"
     ]
    }
   ],
   "source": [
    "bounding_box = [(900, 900),(900, 1000),(1000, 1000),(1000,900)]\n",
    "eda_class.Set_BP(bounding_box)\n",
    "eda_class.Slice_GDS()"
   ]
  },
  {
   "cell_type": "code",
   "execution_count": 4,
   "id": "f2f384df",
   "metadata": {},
   "outputs": [],
   "source": [
    "eda_class.Set_Metal_Layers([61,62,63,64,65,66])\n",
    "eda_class.Set_Via_Layers([70,71,72,73,74])"
   ]
  },
  {
   "cell_type": "code",
   "execution_count": 5,
   "id": "f280c58d",
   "metadata": {},
   "outputs": [],
   "source": [
    "eda_class.Slice_Signals(True)"
   ]
  },
  {
   "cell_type": "code",
   "execution_count": 6,
   "id": "25cec64f",
   "metadata": {},
   "outputs": [],
   "source": [
    "#eda_class.Set_Signals_Num([17,11])\n",
    "eda_class.Set_Signals_Num([0,1])\n",
    "# eda_class.Gausian_Kernal_size=3"
   ]
  },
  {
   "cell_type": "code",
   "execution_count": 7,
   "id": "a2eb0ec2",
   "metadata": {},
   "outputs": [
    {
     "name": "stdout",
     "output_type": "stream",
     "text": [
      "{'signal number is 0'}\n",
      "{'signal number is 1'}\n"
     ]
    }
   ],
   "source": [
    "eda_class.Build_Reward_masks()\n",
    "eda_class.Build_Cost_mask()"
   ]
  },
  {
   "cell_type": "markdown",
   "id": "355ffa4a",
   "metadata": {},
   "source": [
    "# Setting the GA"
   ]
  },
  {
   "cell_type": "code",
   "execution_count": 8,
   "id": "d70f7e46",
   "metadata": {},
   "outputs": [
    {
     "name": "stdout",
     "output_type": "stream",
     "text": [
      "[1666 1666 1666 1666 1666 1666]\n",
      "[1666 1666 1666 1666 1666 1666]\n"
     ]
    }
   ],
   "source": [
    "reward_mask1 = eda_class.reward_mask1\n",
    "reward_mask2 = eda_class.reward_mask2\n",
    "cost_mask = eda_class.cost_mask\n",
    "W,H = cost_mask[0].shape\n",
    "metal_layers = eda_class.Metal_Layers\n",
    "varbound=np.array([[20,W-20],[20,H-20],[61,66],[20,W-20],[20,H-20],[61,66]])\n",
    "Num_generation = 10000\n",
    "S=eda_class.Generate_Initial_Population(Num_generation,varbound)"
   ]
  },
  {
   "cell_type": "code",
   "execution_count": 9,
   "id": "f88634fe",
   "metadata": {},
   "outputs": [],
   "source": [
    "# Setting the ga parameters\n",
    "algorithm_param = {'initial_population':S,\\\n",
    "                   'max_num_iteration': 100,\\\n",
    "                   'population_size':Num_generation,\\\n",
    "                   'mutation_probability':0.1,\\\n",
    "                   'elit_ratio': 0.01,\\\n",
    "                   'crossover_probability': 0.5,\\\n",
    "                   'parents_portion': 0.3,\\\n",
    "                   'crossover_type':'uniform',\\\n",
    "                   'max_iteration_without_improv':None}"
   ]
  },
  {
   "cell_type": "code",
   "execution_count": 10,
   "id": "17eb893c",
   "metadata": {},
   "outputs": [],
   "source": [
    "def cost_reward(x,y,l,s):\n",
    "    ind_l=(metal_layers).index(l)\n",
    "    cost= 0\n",
    "    for i in range(ind_l,len(metal_layers)):\n",
    "        cost += sum(sum(cost_mask[i][(x-20):(x+20),(y-20):(y+20)]))\n",
    "    reward = 0\n",
    "    if s==1:\n",
    "        reward = sum(sum(reward_mask1[ind_l][(x-20):(x+20),(y-20):(y+20)]))\n",
    "    elif s==2:\n",
    "        reward = sum(sum(reward_mask2[ind_l][(x-20):(x+20),(y-20):(y+20)]))\n",
    "    \n",
    "    return cost,reward"
   ]
  },
  {
   "cell_type": "code",
   "execution_count": 11,
   "id": "29890878",
   "metadata": {},
   "outputs": [],
   "source": [
    "def cost_func(X):\n",
    "    x1=int(X[0])\n",
    "    y1=int(X[1])\n",
    "    l1=int(X[2])\n",
    "    x2=int(X[3])\n",
    "    y2=int(X[4])\n",
    "    l2=int(X[5])\n",
    "    cost1, reward1 = cost_reward(x1,y1,l1,1)\n",
    "    cost2, reward2 = cost_reward(x2,y2,l2,2)\n",
    "    cost = cost1+cost2\n",
    "    reward = 100*(reward1+reward2)\n",
    "    L=((x1-x2)**2+(y1-y2)**2)**0.5\n",
    "    L_cost = (L -80)**2#to prevent overlap between the two vias\n",
    "    alpha=0.1\n",
    "    if (cost>0 or reward1==0 or reward2==0):\n",
    "        return cost\n",
    "    else:\n",
    "        return -reward + alpha*L_cost"
   ]
  },
  {
   "cell_type": "code",
   "execution_count": 12,
   "id": "45d29f6d",
   "metadata": {},
   "outputs": [
    {
     "name": "stdout",
     "output_type": "stream",
     "text": [
      " The best solution found:                                                                           \n",
      " [7056.8486726  2012.97710751   66.         7056.91976264 2092.80190159\n",
      "   65.        ]\n",
      "\n",
      " Objective function:\n",
      " -210666.6666666666\n"
     ]
    },
    {
     "data": {
      "image/png": "[encoded data removed]",
      "text/plain": [
       "<Figure size 432x288 with 1 Axes>"
      ]
     },
     "metadata": {
      "needs_background": "light"
     },
     "output_type": "display_data"
    }
   ],
   "source": [
    "varbound=np.array([[20,W-20],[20,H-20],[61,66],[20,W-20],[20,H-20],[61,66]])\n",
    "vartype=np.array([['real'],['real'],['int'],['real'],['real'],['int']])\n",
    "model=ga(function=cost_func,dimension=6,variable_type_mixed=vartype,variable_boundaries=varbound,algorithm_parameters=algorithm_param)\n",
    "model.run()"
   ]
  },
  {
   "cell_type": "code",
   "execution_count": 13,
   "id": "4c234f8e",
   "metadata": {},
   "outputs": [
    {
     "name": "stdout",
     "output_type": "stream",
     "text": [
      "first via at x=970.568486725972 and y=920.1297710751376\n",
      "Second via at x=970.5691976263737 and y=920.9280190159103\n"
     ]
    }
   ],
   "source": [
    "eda_class.plot_results(model.best_variable,20)"
   ]
  },
  {
   "cell_type": "markdown",
   "id": "a8cdf6e7",
   "metadata": {},
   "source": [
    "# Testing the Gauusian blur kernal"
   ]
  },
  {
   "cell_type": "markdown",
   "id": "e36e1b57",
   "metadata": {},
   "source": [
    "for i in range(3,21,2):\n",
    "    eda_class.Gausian_Kernal_size=i\n",
    "    eda_class.Build_Reward_masks()\n",
    "    eda_class.Build_Cost_mask()\n",
    "    model=ga(function=cost_func,dimension=6,variable_type_mixed=vartype,variable_boundaries=varbound,algorithm_parameters=algorithm_param)\n",
    "    model.run()\n",
    "    eda_class.plot_results(model.best_variable,20)\n",
    "    old_name = 'GDS_Signals_global_results.gds'\n",
    "    new_name = 'GDS_Signals_global_results_'+str(i)+'_.gds'\n",
    "    os.rename(old_name,new_name)\n"
   ]
  },
  {
   "cell_type": "code",
   "execution_count": null,
   "id": "2a79fea1",
   "metadata": {},
   "outputs": [],
   "source": [
    "varbound[0:2,:]"
   ]
  },
  {
   "cell_type": "code",
   "execution_count": null,
   "id": "fd471c52",
   "metadata": {},
   "outputs": [],
   "source": [
    "x1=S[:,0]\n",
    "y1=S[:,1]\n",
    "x2=S[:,3]\n",
    "y2=S[:,4]\n",
    "plt.plot(x1,y1,'*b',x2,y2,'or')\n",
    "plt.show\n"
   ]
  },
  {
   "cell_type": "code",
   "execution_count": null,
   "id": "50853b03",
   "metadata": {},
   "outputs": [],
   "source": [
    "x1_g=10\n",
    "y1_g=20\n",
    "print(f'first via at x={ x1_g} and y={y1_g}')\n"
   ]
  },
  {
   "cell_type": "code",
   "execution_count": null,
   "id": "c88968c4",
   "metadata": {},
   "outputs": [],
   "source": []
  }
 ],
 "metadata": {
  "kernelspec": {
   "display_name": "Python 3 (ipykernel)",
   "language": "python",
   "name": "python3"
  },
  "language_info": {
   "codemirror_mode": {
    "name": "ipython",
    "version": 3
   },
   "file_extension": ".py",
   "mimetype": "text/x-python",
   "name": "python",
   "nbconvert_exporter": "python",
   "pygments_lexer": "ipython3",
   "version": "3.10.12"
  }
 },
 "nbformat": 4,
 "nbformat_minor": 5
}
